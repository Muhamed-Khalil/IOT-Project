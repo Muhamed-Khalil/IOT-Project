{
  "metadata": {
    "kernelspec": {
      "language": "python",
      "display_name": "Python 3",
      "name": "python3"
    },
    "language_info": {
      "name": "python",
      "version": "3.10.13",
      "mimetype": "text/x-python",
      "codemirror_mode": {
        "name": "ipython",
        "version": 3
      },
      "pygments_lexer": "ipython3",
      "nbconvert_exporter": "python",
      "file_extension": ".py"
    },
    "kaggle": {
      "accelerator": "none",
      "dataSources": [
        {
          "sourceId": 1958513,
          "sourceType": "datasetVersion",
          "datasetId": 1169027
        }
      ],
      "dockerImageVersionId": 30664,
      "isInternetEnabled": true,
      "language": "python",
      "sourceType": "notebook",
      "isGpuEnabled": false
    },
    "colab": {
      "provenance": []
    }
  },
  "nbformat_minor": 0,
  "nbformat": 4,
  "cells": [
    {
      "source": [
        "\n",
        "# IMPORTANT: RUN THIS CELL IN ORDER TO IMPORT YOUR KAGGLE DATA SOURCES\n",
        "# TO THE CORRECT LOCATION (/kaggle/input) IN YOUR NOTEBOOK,\n",
        "# THEN FEEL FREE TO DELETE THIS CELL.\n",
        "# NOTE: THIS NOTEBOOK ENVIRONMENT DIFFERS FROM KAGGLE'S PYTHON\n",
        "# ENVIRONMENT SO THERE MAY BE MISSING LIBRARIES USED BY YOUR\n",
        "# NOTEBOOK.\n",
        "\n",
        "import os\n",
        "import sys\n",
        "from tempfile import NamedTemporaryFile\n",
        "from urllib.request import urlopen\n",
        "from urllib.parse import unquote, urlparse\n",
        "from urllib.error import HTTPError\n",
        "from zipfile import ZipFile\n",
        "import tarfile\n",
        "import shutil\n",
        "\n",
        "CHUNK_SIZE = 40960\n",
        "DATA_SOURCE_MAPPING = 'traffic-prediction-dataset:https%3A%2F%2Fstorage.googleapis.com%2Fkaggle-data-sets%2F1169027%2F1958513%2Fbundle%2Farchive.zip%3FX-Goog-Algorithm%3DGOOG4-RSA-SHA256%26X-Goog-Credential%3Dgcp-kaggle-com%2540kaggle-161607.iam.gserviceaccount.com%252F20240428%252Fauto%252Fstorage%252Fgoog4_request%26X-Goog-Date%3D20240428T164421Z%26X-Goog-Expires%3D259200%26X-Goog-SignedHeaders%3Dhost%26X-Goog-Signature%3D206320d1f8165249d546365865d8e9e832d098f6ff8beda85f005f8b62e6e600c717166da94260a6a35b272dd1cac4a112c105b468bab20ed8d057b45f008b5d6cfeba3239a11f4377adaeb58307082d12e90bf329787e8c76e45e8d8b46ad3344117cc9beb369ff0b5acfd698aa37f914b0707db6093f84d4f2eaa73aadbf19e14fd45e6d30bba57b4c7fee36d28ac5098ab672cc60ce0ac2760075b2a1355b291e5fed7083a6ac4ad3d0ca8b2bd9c5e710539bff6b332dd5712b62cc928bfc36115791685a73a0e52f4843927fcaa35b9acaed84757d06ca4a443f6cb3e500ff45335b54c89ed7a35e0ab587685353127b11e29935b41c7664cc8d72f42932'\n",
        "\n",
        "KAGGLE_INPUT_PATH='/kaggle/input'\n",
        "KAGGLE_WORKING_PATH='/kaggle/working'\n",
        "KAGGLE_SYMLINK='kaggle'\n",
        "\n",
        "!umount /kaggle/input/ 2> /dev/null\n",
        "shutil.rmtree('/kaggle/input', ignore_errors=True)\n",
        "os.makedirs(KAGGLE_INPUT_PATH, 0o777, exist_ok=True)\n",
        "os.makedirs(KAGGLE_WORKING_PATH, 0o777, exist_ok=True)\n",
        "\n",
        "try:\n",
        "  os.symlink(KAGGLE_INPUT_PATH, os.path.join(\"..\", 'input'), target_is_directory=True)\n",
        "except FileExistsError:\n",
        "  pass\n",
        "try:\n",
        "  os.symlink(KAGGLE_WORKING_PATH, os.path.join(\"..\", 'working'), target_is_directory=True)\n",
        "except FileExistsError:\n",
        "  pass\n",
        "\n",
        "for data_source_mapping in DATA_SOURCE_MAPPING.split(','):\n",
        "    directory, download_url_encoded = data_source_mapping.split(':')\n",
        "    download_url = unquote(download_url_encoded)\n",
        "    filename = urlparse(download_url).path\n",
        "    destination_path = os.path.join(KAGGLE_INPUT_PATH, directory)\n",
        "    try:\n",
        "        with urlopen(download_url) as fileres, NamedTemporaryFile() as tfile:\n",
        "            total_length = fileres.headers['content-length']\n",
        "            print(f'Downloading {directory}, {total_length} bytes compressed')\n",
        "            dl = 0\n",
        "            data = fileres.read(CHUNK_SIZE)\n",
        "            while len(data) > 0:\n",
        "                dl += len(data)\n",
        "                tfile.write(data)\n",
        "                done = int(50 * dl / int(total_length))\n",
        "                sys.stdout.write(f\"\\r[{'=' * done}{' ' * (50-done)}] {dl} bytes downloaded\")\n",
        "                sys.stdout.flush()\n",
        "                data = fileres.read(CHUNK_SIZE)\n",
        "            if filename.endswith('.zip'):\n",
        "              with ZipFile(tfile) as zfile:\n",
        "                zfile.extractall(destination_path)\n",
        "            else:\n",
        "              with tarfile.open(tfile.name) as tarfile:\n",
        "                tarfile.extractall(destination_path)\n",
        "            print(f'\\nDownloaded and uncompressed: {directory}')\n",
        "    except HTTPError as e:\n",
        "        print(f'Failed to load (likely expired) {download_url} to path {destination_path}')\n",
        "        continue\n",
        "    except OSError as e:\n",
        "        print(f'Failed to load {download_url} to path {destination_path}')\n",
        "        continue\n",
        "\n",
        "print('Data source import complete.')\n"
      ],
      "metadata": {
        "id": "L_Glu3aIl-fz"
      },
      "cell_type": "code",
      "outputs": [],
      "execution_count": null
    },
    {
      "cell_type": "code",
      "source": [
        "import numpy as np\n",
        "import pandas as pd\n",
        "import os\n",
        "import matplotlib.pyplot as plt\n",
        "import seaborn as sns\n",
        "import datetime\n",
        "import tensorflow\n",
        "import tensorflow as tf\n",
        "from statsmodels.tsa.stattools import adfuller\n",
        "from sklearn.preprocessing import MinMaxScaler\n",
        "from tensorflow import keras\n",
        "from keras import callbacks\n",
        "from tensorflow.keras import layers, Sequential, callbacks\n",
        "from tensorflow.keras.layers import Conv2D, Flatten, Dense, LSTM, Dropout, GRU, Bidirectional, Conv1D, MaxPooling1D\n",
        "from tensorflow.keras.optimizers import SGD, Adam\n",
        "import math\n",
        "from sklearn.metrics import mean_squared_error\n",
        "from tensorflow.keras.optimizers.schedules import ExponentialDecay\n",
        "\n",
        "for dirname, _, filenames in os.walk('/kaggle/input'):\n",
        "    for filename in filenames:\n",
        "        print(os.path.join(dirname, filename))"
      ],
      "metadata": {
        "_uuid": "8f2839f25d086af736a60e9eeb907d3b93b6e0e5",
        "_cell_guid": "b1076dfc-b9ad-4769-8c92-a6c4dae69d19",
        "execution": {
          "iopub.status.busy": "2024-03-12T09:59:23.023966Z",
          "iopub.execute_input": "2024-03-12T09:59:23.025128Z",
          "iopub.status.idle": "2024-03-12T09:59:23.037483Z",
          "shell.execute_reply.started": "2024-03-12T09:59:23.025066Z",
          "shell.execute_reply": "2024-03-12T09:59:23.036337Z"
        },
        "trusted": true,
        "id": "zNJdgeLjl-f1"
      },
      "execution_count": null,
      "outputs": []
    },
    {
      "cell_type": "code",
      "source": [
        "data=pd.read_csv(\"/kaggle/input/traffic-prediction-dataset/traffic.csv\")\n",
        "data.head()"
      ],
      "metadata": {
        "execution": {
          "iopub.status.busy": "2024-03-12T09:59:31.377399Z",
          "iopub.execute_input": "2024-03-12T09:59:31.377904Z",
          "iopub.status.idle": "2024-03-12T09:59:31.486689Z",
          "shell.execute_reply.started": "2024-03-12T09:59:31.377864Z",
          "shell.execute_reply": "2024-03-12T09:59:31.485477Z"
        },
        "trusted": true,
        "id": "HiZWAQ2Pl-f1"
      },
      "execution_count": null,
      "outputs": []
    },
    {
      "cell_type": "code",
      "source": [
        "data['DateTime']=pd.to_datetime(data['DateTime'])\n",
        "\n",
        "data[\"Year\"]=data['DateTime'].dt.year\n",
        "\n",
        "data[\"Month\"]=data['DateTime'].dt.month\n",
        "\n",
        "data[\"Date_no\"]=data['DateTime'].dt.day\n",
        "\n",
        "data[\"Hour\"]=data['DateTime'].dt.hour\n",
        "\n",
        "data[\"Day\"]= data['DateTime'].dt.strftime(\"%A\")\n",
        "data"
      ],
      "metadata": {
        "execution": {
          "iopub.status.busy": "2024-03-12T09:59:44.906961Z",
          "iopub.execute_input": "2024-03-12T09:59:44.907418Z",
          "iopub.status.idle": "2024-03-12T09:59:45.371432Z",
          "shell.execute_reply.started": "2024-03-12T09:59:44.907388Z",
          "shell.execute_reply": "2024-03-12T09:59:45.369998Z"
        },
        "trusted": true,
        "id": "ZJqIral-l-f1"
      },
      "execution_count": null,
      "outputs": []
    },
    {
      "cell_type": "code",
      "source": [
        "sns.lineplot(x=data['Date_no'],y=\"Vehicles\",data=data,hue='Junction')"
      ],
      "metadata": {
        "execution": {
          "iopub.status.busy": "2024-03-12T10:00:19.550693Z",
          "iopub.execute_input": "2024-03-12T10:00:19.55116Z",
          "iopub.status.idle": "2024-03-12T10:00:21.040526Z",
          "shell.execute_reply.started": "2024-03-12T10:00:19.551127Z",
          "shell.execute_reply": "2024-03-12T10:00:21.039106Z"
        },
        "trusted": true,
        "id": "cEbACqFml-f2"
      },
      "execution_count": null,
      "outputs": []
    },
    {
      "cell_type": "code",
      "source": [
        "data = data[(data['Junction'] == 1)]\n",
        "def Normalize(df,col):\n",
        "    average = df[col].mean()\n",
        "    stdev = df[col].std()\n",
        "    df_normalized = (df[col] - average) / stdev\n",
        "    df_normalized = df_normalized.to_frame()\n",
        "    return df_normalized, average, stdev\n",
        "\n",
        "def Difference(df,col, interval):\n",
        "    diff = []\n",
        "    for i in range(interval, len(df)):\n",
        "        value = df[col][i] - df[col][i - interval]\n",
        "        diff.append(value)\n",
        "    return diff"
      ],
      "metadata": {
        "execution": {
          "iopub.status.busy": "2024-03-12T10:00:29.613388Z",
          "iopub.execute_input": "2024-03-12T10:00:29.614175Z",
          "iopub.status.idle": "2024-03-12T10:00:29.62912Z",
          "shell.execute_reply.started": "2024-03-12T10:00:29.614126Z",
          "shell.execute_reply": "2024-03-12T10:00:29.62749Z"
        },
        "trusted": true,
        "id": "r3Cksq89l-f2"
      },
      "execution_count": null,
      "outputs": []
    },
    {
      "cell_type": "code",
      "source": [
        "df_N, av, std = Normalize(data, \"Vehicles\")\n",
        "Diff = Difference(df_N, col=\"Vehicles\", interval=(24*7)) #taking a week's diffrence\n",
        "df_N = df_N[24*7:]\n",
        "df_N.columns = [\"Norm\"]\n",
        "df_N[\"Diff\"]= Diff\n",
        "df = df_N[\"Diff\"].dropna()\n",
        "df = df.to_frame()\n",
        "df.head()"
      ],
      "metadata": {
        "execution": {
          "iopub.status.busy": "2024-03-12T10:00:43.690956Z",
          "iopub.execute_input": "2024-03-12T10:00:43.691411Z",
          "iopub.status.idle": "2024-03-12T10:00:44.068618Z",
          "shell.execute_reply.started": "2024-03-12T10:00:43.691379Z",
          "shell.execute_reply": "2024-03-12T10:00:44.067607Z"
        },
        "trusted": true,
        "id": "6LUxe2JUl-f2"
      },
      "execution_count": null,
      "outputs": []
    },
    {
      "cell_type": "code",
      "source": [
        "df.shape"
      ],
      "metadata": {
        "execution": {
          "iopub.status.busy": "2024-03-12T10:01:38.226346Z",
          "iopub.execute_input": "2024-03-12T10:01:38.226821Z",
          "iopub.status.idle": "2024-03-12T10:01:38.2356Z",
          "shell.execute_reply.started": "2024-03-12T10:01:38.22678Z",
          "shell.execute_reply": "2024-03-12T10:01:38.234125Z"
        },
        "trusted": true,
        "id": "nvm6qu8Sl-f3"
      },
      "execution_count": null,
      "outputs": []
    },
    {
      "cell_type": "code",
      "source": [
        "def Split_data(df):\n",
        "    training_size = int(len(df)*0.80)\n",
        "    data_len = len(df)\n",
        "    train, test = df[0:training_size],df[training_size:data_len]\n",
        "    train, test = train.values.reshape(-1, 1), test.values.reshape(-1, 1)\n",
        "    return train, test\n",
        "\n",
        "df_train, df_test = Split_data(df)"
      ],
      "metadata": {
        "execution": {
          "iopub.status.busy": "2024-03-12T10:01:41.314244Z",
          "iopub.execute_input": "2024-03-12T10:01:41.31536Z",
          "iopub.status.idle": "2024-03-12T10:01:41.322678Z",
          "shell.execute_reply.started": "2024-03-12T10:01:41.315303Z",
          "shell.execute_reply": "2024-03-12T10:01:41.321075Z"
        },
        "trusted": true,
        "id": "MbaI3RF4l-f3"
      },
      "execution_count": null,
      "outputs": []
    },
    {
      "cell_type": "code",
      "source": [
        "def TnF(df):\n",
        "    end_len = len(df)\n",
        "    X = []\n",
        "    y = []\n",
        "    steps = 32\n",
        "    for i in range(steps, end_len):\n",
        "        X.append(df[i - steps:i, 0])\n",
        "        y.append(df[i, 0])\n",
        "    X, y = np.array(X), np.array(y)\n",
        "    return X ,y\n",
        "\n",
        "def FeatureFixShape(train, test):\n",
        "    train = np.reshape(train, (train.shape[0], train.shape[1], 1))\n",
        "    test = np.reshape(test, (test.shape[0],test.shape[1],1))\n",
        "    return train, test\n",
        "\n",
        "X_train, y_train = TnF(df_train)\n",
        "X_test, y_test = TnF(df_test)\n",
        "X_train, X_test = FeatureFixShape(X_train, X_test)"
      ],
      "metadata": {
        "execution": {
          "iopub.status.busy": "2024-03-12T10:01:45.721752Z",
          "iopub.execute_input": "2024-03-12T10:01:45.72221Z",
          "iopub.status.idle": "2024-03-12T10:01:45.766098Z",
          "shell.execute_reply.started": "2024-03-12T10:01:45.722178Z",
          "shell.execute_reply": "2024-03-12T10:01:45.764794Z"
        },
        "trusted": true,
        "id": "1zLGj1lRl-f4"
      },
      "execution_count": null,
      "outputs": []
    },
    {
      "cell_type": "code",
      "source": [
        "X_train, X_test = FeatureFixShape(X_train, X_test)\n",
        "from sklearn.metrics import mean_absolute_error\n",
        "\n",
        "lr_schedule = ExponentialDecay(\n",
        "    initial_learning_rate=0.01,\n",
        "    decay_steps=10000,\n",
        "    decay_rate=0.9)\n",
        "\n",
        "def MLP_model(X_Train, y_Train, X_Test, y_Test):\n",
        "    X_Train = np.squeeze(X_Train)  # This line removes the unnecessary dimension\n",
        "    X_Test = np.squeeze(X_Test)    # Do the same for the test data\n",
        "    early_stopping = callbacks.EarlyStopping(min_delta=0.001,patience=10, restore_best_weights=True)\n",
        "    model = Sequential()\n",
        "    model.add(Dense(100, activation='relu', input_dim=X_Train.shape[1]))\n",
        "    model.add(Dropout(0.2))\n",
        "    model.add(Dense(20, activation='relu', input_dim=X_Train.shape[1]))\n",
        "    model.add(Dropout(0.2))\n",
        "    model.add(Dense(1))\n",
        "    model.compile(optimizer=SGD(learning_rate=lr_schedule, momentum=0.9),loss='mean_squared_error')\n",
        "    model.fit(X_Train, y_Train, validation_data=(X_test, y_test), epochs=50, batch_size=120, callbacks=[early_stopping])\n",
        "    pred_MLP = model.predict(X_Test)\n",
        "    return pred_MLP"
      ],
      "metadata": {
        "execution": {
          "iopub.status.busy": "2024-03-12T10:01:50.355097Z",
          "iopub.execute_input": "2024-03-12T10:01:50.355653Z",
          "iopub.status.idle": "2024-03-12T10:01:50.368092Z",
          "shell.execute_reply.started": "2024-03-12T10:01:50.355612Z",
          "shell.execute_reply": "2024-03-12T10:01:50.366713Z"
        },
        "trusted": true,
        "id": "2ifIFj5ql-f5"
      },
      "execution_count": null,
      "outputs": []
    },
    {
      "cell_type": "code",
      "source": [
        "def RMSE_Value(test,predicted):\n",
        "    rmse = math.sqrt(mean_squared_error(test, predicted))\n",
        "    print(\"The root mean squared error is {}.\".format(rmse))\n",
        "    return rmse\n",
        "\n",
        "def MAE_Value(test,predicted):\n",
        "    mae = mean_absolute_error(test, predicted)\n",
        "    print(\"The MAE is {}.\".format(mae))\n",
        "    return mae\n",
        "\n",
        "#To plot the comparitive plot of targets and predictions\n",
        "def PredictionsPlot(test,predicted,m):\n",
        "    plt.figure(figsize=(12,5))\n",
        "    plt.plot(test, color=colors[m],label=\"True Value\",alpha=0.5 )\n",
        "    plt.plot(predicted,label=\"Predicted Values\")\n",
        "    plt.title(\"Traffic Prediction Vs True values\")\n",
        "    plt.xlabel(\"DateTime\")\n",
        "    plt.ylabel(\"Number of Vehicles\")\n",
        "    plt.legend()\n",
        "    plt.show()"
      ],
      "metadata": {
        "execution": {
          "iopub.status.busy": "2024-03-12T10:02:07.927843Z",
          "iopub.execute_input": "2024-03-12T10:02:07.928349Z",
          "iopub.status.idle": "2024-03-12T10:02:07.938213Z",
          "shell.execute_reply.started": "2024-03-12T10:02:07.928309Z",
          "shell.execute_reply": "2024-03-12T10:02:07.936895Z"
        },
        "trusted": true,
        "id": "Ui0kxwqTl-f5"
      },
      "execution_count": null,
      "outputs": []
    },
    {
      "cell_type": "code",
      "source": [
        "Pred_MLP = MLP_model(X_train,y_train,X_test, y_test)"
      ],
      "metadata": {
        "execution": {
          "iopub.status.busy": "2024-03-12T10:02:22.675654Z",
          "iopub.execute_input": "2024-03-12T10:02:22.676152Z",
          "iopub.status.idle": "2024-03-12T10:02:36.242245Z",
          "shell.execute_reply.started": "2024-03-12T10:02:22.676115Z",
          "shell.execute_reply": "2024-03-12T10:02:36.240638Z"
        },
        "trusted": true,
        "id": "lIfqFzjnl-f6"
      },
      "execution_count": null,
      "outputs": []
    },
    {
      "cell_type": "code",
      "source": [
        "colors = [\"#6D91A1\",\"#74B3CE1\",\"#536D7A\",\"#3E535B\"]\n",
        "RMSE_MLP = RMSE_Value(y_test, Pred_MLP)\n",
        "MAE_MLP = MAE_Value(y_test, Pred_MLP)\n",
        "PredictionsPlot(y_test, Pred_MLP, 0)"
      ],
      "metadata": {
        "execution": {
          "iopub.status.busy": "2024-03-12T10:03:29.094058Z",
          "iopub.execute_input": "2024-03-12T10:03:29.094562Z",
          "iopub.status.idle": "2024-03-12T10:03:29.431401Z",
          "shell.execute_reply.started": "2024-03-12T10:03:29.094527Z",
          "shell.execute_reply": "2024-03-12T10:03:29.429845Z"
        },
        "trusted": true,
        "id": "bh5yMcs_l-f6"
      },
      "execution_count": null,
      "outputs": []
    },
    {
      "cell_type": "code",
      "source": [
        "def inverse_difference(last_ob, value):\n",
        "    inversed = value + last_ob\n",
        "    return inversed\n",
        "\n",
        "def Sub_Plots(df_1, df_2,title,m):\n",
        "    fig, axes = plt.subplots(1, 2, figsize=(18,4), sharey=True)\n",
        "    fig.suptitle(title)\n",
        "\n",
        "    pl_1=sns.lineplot(ax=axes[0],data=df_1,color=colors[m])\n",
        "    axes[0].set(ylabel =\"Prediction\")\n",
        "\n",
        "    pl_2=sns.lineplot(ax=axes[1],data=df_2[\"Vehicles\"],color=\"#3E535B\")\n",
        "    axes[1].set(ylabel =\"Original\")"
      ],
      "metadata": {
        "execution": {
          "iopub.status.busy": "2024-03-12T10:04:00.14366Z",
          "iopub.execute_input": "2024-03-12T10:04:00.144071Z",
          "iopub.status.idle": "2024-03-12T10:04:00.155191Z",
          "shell.execute_reply.started": "2024-03-12T10:04:00.144042Z",
          "shell.execute_reply": "2024-03-12T10:04:00.153318Z"
        },
        "trusted": true,
        "id": "kmqmzFnCl-f6"
      },
      "execution_count": null,
      "outputs": []
    },
    {
      "cell_type": "code",
      "source": [
        "recover = df_N.Norm[-2854:-1].to_frame()\n",
        "recover[\"Pred\"]= globals()[f\"Pred_MLP\"]\n",
        "Transform_reverssed = inverse_difference(recover.Norm, recover.Pred).to_frame()\n",
        "Transform_reverssed.columns = [\"Pred_Normed\"]\n",
        "Final_Pred = (Transform_reverssed.values* std) + av\n",
        "Transform_reverssed[\"Pred_Final\"] = Final_Pred\n",
        "Sub_Plots(Transform_reverssed[\"Pred_Final\"], data[-2854:-1],\"Predictions And Originals For Junction 1\", 0)"
      ],
      "metadata": {
        "execution": {
          "iopub.status.busy": "2024-03-12T10:04:07.095383Z",
          "iopub.execute_input": "2024-03-12T10:04:07.095828Z",
          "iopub.status.idle": "2024-03-12T10:04:07.804933Z",
          "shell.execute_reply.started": "2024-03-12T10:04:07.095797Z",
          "shell.execute_reply": "2024-03-12T10:04:07.803561Z"
        },
        "trusted": true,
        "id": "TRjumQqel-f6"
      },
      "execution_count": null,
      "outputs": []
    },
    {
      "cell_type": "code",
      "source": [
        "def GRU_model(X_Train, y_Train, X_Test, y_Test):\n",
        "    early_stopping = callbacks.EarlyStopping(min_delta=0.001,patience=10, restore_best_weights=True)\n",
        "    #callback delta 0.01 may interrupt the learning.\n",
        "\n",
        "    #The GRU model\n",
        "    model = Sequential()\n",
        "    model.add(GRU(units=100, return_sequences=True, input_shape=(X_Train.shape[1],1), activation='tanh'))\n",
        "    model.add(Dropout(0.2))\n",
        "    model.add(GRU(units=20, input_shape=(X_Train.shape[1],1), activation='tanh'))\n",
        "    model.add(Dropout(0.2))\n",
        "    model.add(Dense(units=1))\n",
        "\n",
        "    #Compiling the model\n",
        "    model.compile(optimizer=SGD(learning_rate=lr_schedule, momentum=0.9),loss='mean_squared_error')\n",
        "    model.fit(X_Train,y_Train, validation_data=(X_Test, y_Test), epochs=50, batch_size=120,callbacks=[early_stopping])\n",
        "    pred_GRU= model.predict(X_Test)\n",
        "    return pred_GRU"
      ],
      "metadata": {
        "execution": {
          "iopub.status.busy": "2024-03-12T10:04:22.171461Z",
          "iopub.execute_input": "2024-03-12T10:04:22.171969Z",
          "iopub.status.idle": "2024-03-12T10:04:22.182664Z",
          "shell.execute_reply.started": "2024-03-12T10:04:22.171932Z",
          "shell.execute_reply": "2024-03-12T10:04:22.181398Z"
        },
        "trusted": true,
        "id": "2rP5-HJJl-f6"
      },
      "execution_count": null,
      "outputs": []
    },
    {
      "cell_type": "code",
      "source": [
        "def LSTM_model(X_Train, y_Train, X_Test, y_Test):\n",
        "    early_stopping = callbacks.EarlyStopping(min_delta=0.001,patience=10, restore_best_weights=True)\n",
        "\n",
        "    #The LSTM model\n",
        "    model = Sequential()\n",
        "    model.add(LSTM(units=100, return_sequences=True, input_shape=(X_Train.shape[1],1), activation='tanh'))\n",
        "    model.add(Dropout(0.2))\n",
        "    model.add(LSTM(units=20, input_shape=(X_Train.shape[1],1), activation='tanh'))\n",
        "    model.add(Dropout(0.2))\n",
        "    model.add(Dense(units=1))\n",
        "\n",
        "    #Compiling the model\n",
        "    model.compile(optimizer=SGD(learning_rate=lr_schedule, momentum=0.9),loss='mean_squared_error')\n",
        "    model.fit(X_Train,y_Train, validation_data=(X_Test, y_Test), epochs=50, batch_size=120,callbacks=[early_stopping])\n",
        "    pred_LSTM = model.predict(X_Test)\n",
        "    return pred_LSTM"
      ],
      "metadata": {
        "execution": {
          "iopub.status.busy": "2024-03-12T10:04:38.113416Z",
          "iopub.execute_input": "2024-03-12T10:04:38.113883Z",
          "iopub.status.idle": "2024-03-12T10:04:38.124662Z",
          "shell.execute_reply.started": "2024-03-12T10:04:38.113849Z",
          "shell.execute_reply": "2024-03-12T10:04:38.123036Z"
        },
        "trusted": true,
        "id": "rhqmUmHVl-f7"
      },
      "execution_count": null,
      "outputs": []
    },
    {
      "cell_type": "code",
      "source": [
        "Pred_GRU = GRU_model(X_train,y_train,X_test,y_test)"
      ],
      "metadata": {
        "execution": {
          "iopub.status.busy": "2024-03-12T10:05:15.684349Z",
          "iopub.execute_input": "2024-03-12T10:05:15.68481Z",
          "iopub.status.idle": "2024-03-12T10:08:11.284688Z",
          "shell.execute_reply.started": "2024-03-12T10:05:15.684777Z",
          "shell.execute_reply": "2024-03-12T10:08:11.283172Z"
        },
        "trusted": true,
        "id": "8owHLRcrl-f7"
      },
      "execution_count": null,
      "outputs": []
    },
    {
      "cell_type": "code",
      "source": [
        "RMSE_GRU = RMSE_Value(y_test, Pred_GRU)\n",
        "MAE_GRU = MAE_Value(y_test, Pred_GRU)\n",
        "PredictionsPlot(y_test, Pred_GRU, 0)"
      ],
      "metadata": {
        "execution": {
          "iopub.status.busy": "2024-03-12T10:08:30.004147Z",
          "iopub.execute_input": "2024-03-12T10:08:30.005534Z",
          "iopub.status.idle": "2024-03-12T10:08:30.304777Z",
          "shell.execute_reply.started": "2024-03-12T10:08:30.005473Z",
          "shell.execute_reply": "2024-03-12T10:08:30.30348Z"
        },
        "trusted": true,
        "id": "gnoce6u0l-f7"
      },
      "execution_count": null,
      "outputs": []
    },
    {
      "cell_type": "code",
      "source": [
        "Pred_LSTM = LSTM_model(X_train,y_train,X_test, y_test)"
      ],
      "metadata": {
        "execution": {
          "iopub.status.busy": "2024-03-12T10:09:33.27111Z",
          "iopub.execute_input": "2024-03-12T10:09:33.271656Z",
          "iopub.status.idle": "2024-03-12T10:16:26.253928Z",
          "shell.execute_reply.started": "2024-03-12T10:09:33.271618Z",
          "shell.execute_reply": "2024-03-12T10:16:26.252184Z"
        },
        "trusted": true,
        "id": "t52XEbUSl-f7"
      },
      "execution_count": null,
      "outputs": []
    },
    {
      "cell_type": "code",
      "source": [
        "RMSE_LSTM = RMSE_Value(y_test, Pred_LSTM)\n",
        "MAE_LSTM = MAE_Value(y_test, Pred_LSTM)\n",
        "PredictionsPlot(y_test, Pred_LSTM, 0)"
      ],
      "metadata": {
        "execution": {
          "iopub.status.busy": "2024-03-12T10:20:10.698773Z",
          "iopub.execute_input": "2024-03-12T10:20:10.699322Z",
          "iopub.status.idle": "2024-03-12T10:20:11.083632Z",
          "shell.execute_reply.started": "2024-03-12T10:20:10.699251Z",
          "shell.execute_reply": "2024-03-12T10:20:11.082128Z"
        },
        "trusted": true,
        "id": "AdVI7Q9Ml-f7"
      },
      "execution_count": null,
      "outputs": []
    }
  ]
}